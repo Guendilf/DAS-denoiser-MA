{
 "cells": [
  {
   "cell_type": "code",
   "execution_count": 1,
   "metadata": {},
   "outputs": [],
   "source": [
    "import h5py\n",
    "import numpy as np\n",
    "import datetime\n",
    "from loss import calculate_loss\n",
    "from models.N2N_Unet import N2N_Unet_DAS, N2N_Orig_Unet, Cut2Self, U_Net_origi, U_Net, TestNet\n",
    "from utils import add_noise_snr\n",
    "\n",
    "import numpy as np\n",
    "import torch\n",
    "import matplotlib.pyplot as plt\n",
    "import torchvision.datasets as datasets\n",
    "from torch.utils.data import Dataset, DataLoader\n",
    "import torchvision.transforms as transforms\n",
    "from torchvision.utils import make_grid\n",
    "import os\n",
    "import glob\n",
    "import sys\n",
    "import time\n",
    "from pathlib import Path"
   ]
  },
  {
   "cell_type": "code",
   "execution_count": 2,
   "metadata": {},
   "outputs": [],
   "source": [
    "class DASDataset(Dataset):\n",
    "    def __init__(self, root_dir):\n",
    "        self.file_paths = glob.glob(os.path.join(root_dir, '**', '*.h5'), recursive=True)\n",
    "\n",
    "    def __len__(self):\n",
    "        return len(self.file_paths)\n",
    "\n",
    "    def __getitem__(self, idx):\n",
    "        file_path = self.file_paths[idx]\n",
    "        with h5py.File(file_path, 'r') as f_in:\n",
    "            DAS_data = f_in['DAS'][:]\n",
    "            #tmp = file_path.split('/')[-1].split('.h5')[0].split('_')[3:5]\n",
    "            tmp = file_path.split('\\\\')[-1].split('.h5')[0].split('_')[3:5]\n",
    "            #start_datetime = datetime.datetime.strptime(tmp[0] + ' ' + tmp[1], '%Y%m%d %H%M%S.%f')\n",
    "            start_datetime = [float(i) for i in tmp]\n",
    "        return DAS_data, start_datetime\n",
    "\n",
    "# Pfad zum Wurzelverzeichnis Ihrer Daten\n",
    "root_dir = 'Server_DAS/eq_data_50Hz'\n",
    "\n",
    "# Erstellen des Datasets\n",
    "das_dataset = DASDataset(root_dir)\n",
    "\n",
    "# Erstellen des DataLoaders\n",
    "batch_size = 1  # oder eine andere gewünschte Batchgröße\n",
    "dataloader = DataLoader(das_dataset, batch_size=batch_size, shuffle=False)\n",
    "\n",
    "#data, _ = next(iter(dataloader))\n"
   ]
  },
  {
   "cell_type": "code",
   "execution_count": 3,
   "metadata": {},
   "outputs": [],
   "source": [
    "#data.shape"
   ]
  },
  {
   "cell_type": "code",
   "execution_count": 4,
   "metadata": {},
   "outputs": [
    {
     "name": "stdout",
     "output_type": "stream",
     "text": [
      "torch.Size([1, 3000, 7488])\n",
      "n2noise\n",
      "tensor(549689.5000, device='cuda:0', grad_fn=<MseLossBackward0>)\n",
      "n2score\n",
      "tensor(2371.0283, device='cuda:0', grad_fn=<MeanBackward0>)\n",
      "n2self\n",
      "tensor(66858.6250, device='cuda:0', grad_fn=<MseLossBackward0>)\n",
      "n2self j-invariant\n",
      "tensor(66858.6250, device='cuda:0', grad_fn=<MseLossBackward0>)\n",
      "n2same\n",
      "tensor(1.2164, device='cuda:0', grad_fn=<AddBackward0>)\n",
      "n2same batch\n",
      "tensor(1.3087, device='cuda:0', grad_fn=<AddBackward0>)\n",
      "n2void\n",
      "tensor(0.0019, device='cuda:0', grad_fn=<MseLossBackward0>)\n"
     ]
    }
   ],
   "source": [
    "methoden_liste = [\"n2noise\", \"n2score\", \"n2self\", \"n2self j-invariant\", \"n2same\", \"n2same batch\", \"n2void\"]\n",
    "#\"n2self\", \"n2self j-invariant\" haben problleme mit 1 chanel\n",
    "device = \"cuda\" if torch.cuda.is_available() else \"cpu\"\n",
    "data, _ = next(iter(dataloader))\n",
    "print(data.shape)\n",
    "model = TestNet(1,1).to(device)\n",
    "sigma = 2\n",
    "augmentation = True\n",
    "batch_idx = 0\n",
    "dropout_rate = 0.3\n",
    "lambda_inv = 2\n",
    "original = (data.unsqueeze(1).to(device))[:, :, :300, :748] #macht aus (b, w, h)  (b,1,w,h)\n",
    "noise_images, alpha = add_noise_snr(original, snr_db=sigma)\n",
    "noise_images = noise_images.to(device)\n",
    "for methode in methoden_liste:\n",
    "    print(methode)\n",
    "    loss, denoised, original, noise_images, optional_tuples = calculate_loss(model, device, dataloader, methode, sigma, batch_idx, original, noise_images, augmentation, lambda_inv=lambda_inv, dropout_rate=dropout_rate)\n",
    "    print(loss)"
   ]
  },
  {
   "cell_type": "code",
   "execution_count": 4,
   "metadata": {},
   "outputs": [
    {
     "name": "stdout",
     "output_type": "stream",
     "text": [
      "Index(['Wall time', 'Step', 'Value'], dtype='object')\n"
     ]
    },
    {
     "data": {
      "image/png": "[encoded data removed]",
      "text/plain": [
       "<Figure size 640x480 with 1 Axes>"
      ]
     },
     "metadata": {},
     "output_type": "display_data"
    }
   ],
   "source": [
    "import pandas as pd\n",
    "import numpy as np\n",
    "\n",
    "# Pfad zur CSV-Datei\n",
    "csv_file_path = 'scoreSigma.csv'\n",
    "\n",
    "# Lade die CSV-Datei mit pandas\n",
    "df = pd.read_csv(csv_file_path)\n",
    "\n",
    "# Angenommen, die Spalte, die du extrahieren möchtest, heißt 'desired_column'\n",
    "# Wenn du den Spaltennamen nicht kennst, kannst du ihn dir mit df.columns anzeigen lassen\n",
    "print(df.columns)\n",
    "\n",
    "# Extrahiere die gewünschte Spalte und konvertiere sie in ein NumPy-Array\n",
    "column_name = 'Value'\n",
    "y = df[column_name].to_numpy()\n",
    "\n",
    "# Optional: Drucke das NumPy-Array, um es zu überprüfen\n",
    "x = np.arange(len(y))\n",
    "\n",
    "# Plotten der Daten\n",
    "plt.plot(x, y, label=\"Estimated sigma\")\n",
    "\n",
    "# Horizontale Linie bei y = 0.4 hinzufügen\n",
    "plt.axhline(y=0.4, color='r', linestyle='--', label='True sigma')\n",
    "\n",
    "# Achsenbeschriftungen und Titel hinzufügen\n",
    "plt.xlabel('Step')\n",
    "plt.ylabel(\"$\\sigma$\")\n",
    "plt.title('Estimated sigma values over time')\n",
    "\n",
    "plt.ylim(0, 0.5)\n",
    "\n",
    "# Legende hinzufügen\n",
    "plt.legend(loc='lower right')\n",
    "\n",
    "# Plot anzeigen\n",
    "plt.show()"
   ]
  }
 ],
 "metadata": {
  "kernelspec": {
   "display_name": "denoise",
   "language": "python",
   "name": "python3"
  },
  "language_info": {
   "codemirror_mode": {
    "name": "ipython",
    "version": 3
   },
   "file_extension": ".py",
   "mimetype": "text/x-python",
   "name": "python",
   "nbconvert_exporter": "python",
   "pygments_lexer": "ipython3",
   "version": "3.11.0"
  }
 },
 "nbformat": 4,
 "nbformat_minor": 2
}
